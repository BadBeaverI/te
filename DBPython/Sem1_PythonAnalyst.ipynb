{
 "cells": [
  {
   "cell_type": "code",
   "execution_count": 1,
   "id": "f8c6981d",
   "metadata": {},
   "outputs": [
    {
     "data": {
      "text/plain": [
       "{'One': 1, 'Two': 2, 'Three': 3, 'Four': 4, 'Five': 5, 'Six': 6}"
      ]
     },
     "execution_count": 1,
     "metadata": {},
     "output_type": "execute_result"
    }
   ],
   "source": [
    "## Задание 1\n",
    "### 1.1 Соедините два словаря в один\n",
    "dict1 = {'One': 1, 'Two': 2, 'Three': 3}\n",
    "dict2 = {'Four': 4, 'Five': 5, 'Six': 6}\n",
    "dict3 = dict1|dict2\n",
    "dict3"
   ]
  },
  {
   "cell_type": "code",
   "execution_count": 2,
   "id": "542342ec",
   "metadata": {},
   "outputs": [
    {
     "data": {
      "text/plain": [
       "{'One': 1, 'Two': 2, 'Three': 3, 'Four': 4, 'Five': 5, 'Six': 6}"
      ]
     },
     "execution_count": 2,
     "metadata": {},
     "output_type": "execute_result"
    }
   ],
   "source": [
    "dict4 = {**dict1 , **dict2}\n",
    "dict4"
   ]
  },
  {
   "cell_type": "code",
   "execution_count": 3,
   "id": "c407da2b",
   "metadata": {},
   "outputs": [
    {
     "data": {
      "text/plain": [
       "{'One': 1, 'Two': 2, 'Three': 3, 'Four': 4, 'Five': 5, 'Six': 6}"
      ]
     },
     "execution_count": 3,
     "metadata": {},
     "output_type": "execute_result"
    }
   ],
   "source": [
    "dict1.update(dict2)\n",
    "dict1"
   ]
  },
  {
   "cell_type": "code",
   "execution_count": 4,
   "id": "69619db9",
   "metadata": {},
   "outputs": [],
   "source": [
    "dict1 = {'One': 1, 'Two': 2, 'Three': 3}\n",
    "dict2 = {'Four': 4, 'Five': 5, 'Six': 6}"
   ]
  },
  {
   "cell_type": "code",
   "execution_count": 5,
   "id": "24343c34",
   "metadata": {},
   "outputs": [
    {
     "data": {
      "text/plain": [
       "{'One': 1, 'Two': 2, 'Three': 3, 'Four': 4, 'Five': 5, 'Six': 6}"
      ]
     },
     "execution_count": 5,
     "metadata": {},
     "output_type": "execute_result"
    }
   ],
   "source": [
    "def dict_union(d1:dict,d2:dict) -> dict:\n",
    "    for key, value in d2.items():\n",
    "        d1[key] = value\n",
    "    return d1\n",
    "        \n",
    "dict_union(dict1, dict2)"
   ]
  },
  {
   "cell_type": "code",
   "execution_count": null,
   "id": "218e7332",
   "metadata": {},
   "outputs": [],
   "source": [
    "## Задание 2.\n",
    "\n",
    "Напишите функцию, которая из двух списков, делает один словарь, где элементы из первого списка - ключи,\n",
    "а элементы из второго списка - значения\n",
    "\n",
    "Используйте аннотирование типов\n",
    "\n",
    "### 2.1 Используя цикл for\n",
    "### 2.2 Используя dict comprehensions"
   ]
  },
  {
   "cell_type": "code",
   "execution_count": 12,
   "id": "8e0ee3dc",
   "metadata": {},
   "outputs": [],
   "source": [
    "keys = ['One', 'Two', 'Three']\n",
    "values = [1, 2, 3]"
   ]
  },
  {
   "cell_type": "code",
   "execution_count": 13,
   "id": "a1fa4a86",
   "metadata": {},
   "outputs": [
    {
     "data": {
      "text/plain": [
       "{'One': 1, 'Two': 2, 'Three': 3}"
      ]
     },
     "execution_count": 13,
     "metadata": {},
     "output_type": "execute_result"
    }
   ],
   "source": [
    "def create_dict(k:list[str], v:list[int]) -> dict:\n",
    "    dict_result = {}\n",
    "    for i in range(len(k)):\n",
    "        dict_result[k[i]] = v[i]\n",
    "    return dict_result  \n",
    "\n",
    "create_dict(keys,values)"
   ]
  },
  {
   "cell_type": "code",
   "execution_count": 20,
   "id": "fc03477c",
   "metadata": {},
   "outputs": [
    {
     "data": {
      "text/plain": [
       "{'One': 1, 'Two': 2, 'Three': 3}"
      ]
     },
     "execution_count": 20,
     "metadata": {},
     "output_type": "execute_result"
    }
   ],
   "source": [
    "my_dict = {keys[i]:values[i] for i in range(len(keys))}\n",
    "my_dict"
   ]
  },
  {
   "cell_type": "markdown",
   "id": "797c5db3",
   "metadata": {},
   "source": [
    "## Задание 3.\n",
    "\n",
    "Извлеките только два ключа name и age из представленного словаря\n",
    "\n",
    "### 3.1 Напишите функцию с циклом for\n",
    "\n",
    "Функция на вход принимает:\n",
    "исходный словарь\n",
    "ключи, которые нужно извлечь (аргумент по умолчанию)\n",
    "На выходе словарь с нужными ключами\n",
    "Используйте аннотирование типов\n",
    "\n",
    "### 3.2 Используя dict comprehensions\n"
   ]
  },
  {
   "cell_type": "code",
   "execution_count": 16,
   "id": "c5c3a321",
   "metadata": {},
   "outputs": [],
   "source": [
    "client_dict = {\n",
    "\t\"name\": \"John\",\n",
    "\t\"age\": 25,\n",
    "\t\"salary\": 5000,\n",
    "\t\"city\": \"Moscow\"\n",
    "}"
   ]
  },
  {
   "cell_type": "code",
   "execution_count": 18,
   "id": "967cf5a1",
   "metadata": {},
   "outputs": [
    {
     "data": {
      "text/plain": [
       "{'name': 'John', 'age': 25}"
      ]
     },
     "execution_count": 18,
     "metadata": {},
     "output_type": "execute_result"
    }
   ],
   "source": [
    "def new_dict(dict_input: dict, keys: list=[\"name\", \"age\"]) -> dict:\n",
    "    dict_res = {}\n",
    "    for k in keys:\n",
    "        dict_res[k] = dict_input[k]\n",
    "    return dict_res\n",
    "\n",
    "new_dict(client_dict)"
   ]
  },
  {
   "cell_type": "code",
   "execution_count": 23,
   "id": "e48910d5",
   "metadata": {},
   "outputs": [
    {
     "data": {
      "text/plain": [
       "{'name': 'John', 'age': 25}"
      ]
     },
     "execution_count": 23,
     "metadata": {},
     "output_type": "execute_result"
    }
   ],
   "source": [
    "my_dict = {k:client_dict[k]  for k in [\"name\", \"age\"]}\n",
    "my_dict"
   ]
  },
  {
   "cell_type": "markdown",
   "id": "1e376491",
   "metadata": {},
   "source": [
    "## Задание 4.\n",
    "\n",
    "### 4.1 Сгенерируйте случайные целые числа от 0 до 100 в количестве 5 штук с помощью модуля random\n",
    "\n",
    "Зафиксируйте псевдогенерацию, чтобы сгенерированные значения всегда были одинаковые\n",
    "Используйте list comprehensions"
   ]
  },
  {
   "cell_type": "code",
   "execution_count": 32,
   "id": "222a1aa7",
   "metadata": {},
   "outputs": [],
   "source": [
    "import random"
   ]
  },
  {
   "cell_type": "code",
   "execution_count": 35,
   "id": "b5c38ecd",
   "metadata": {},
   "outputs": [
    {
     "data": {
      "text/plain": [
       "[73, 4, 54, 61, 73]"
      ]
     },
     "execution_count": 35,
     "metadata": {},
     "output_type": "execute_result"
    }
   ],
   "source": [
    "random.seed(10)\n",
    "data = [random.randint(0,100) for i in range(5)]\n",
    "data"
   ]
  },
  {
   "cell_type": "markdown",
   "id": "faf0ea3e",
   "metadata": {},
   "source": [
    "### 4.2* Напишите генератор\n",
    "\n",
    "Генератор на вход принимает список с данными о клиенте (данные из пункта 4.1)\n",
    "\n",
    "Внутри генератора реализуйте обход по списку с данными\n",
    "\n",
    "На каждой итерации генератор будет возвращать кортеж из двух элементов:\n",
    "\n",
    "1. данные по клиенту (в зависимости от итерации, на 0 итерации вернется 0 элемент, на 1 итерации вернется 1 элемент и тд)\n",
    "2. целочисленное значение, которое показывает, сколько секунд прошло с предыдущей итерации\n",
    "\n",
    "Примечание: секунды, которые возвращаются должны показывать время не с начала запуска генератора, а именно то время, которое прошло с предыдущей итерации. А значит время на первой итерации должно равняться 0.\n",
    "Используйте функцию time из модуля time для подсчета времени.\n",
    "Чтобы проверить работу таймера, запустите проход по генератору в цикле с time.sleep(2)\n"
   ]
  },
  {
   "cell_type": "code",
   "execution_count": 36,
   "id": "0ad9f2b9",
   "metadata": {},
   "outputs": [],
   "source": [
    "import time"
   ]
  },
  {
   "cell_type": "code",
   "execution_count": 49,
   "id": "586f8ba4",
   "metadata": {},
   "outputs": [],
   "source": [
    "def func(nums:list) -> tuple:\n",
    "    last_time = time.time()\n",
    "    for num in nums:\n",
    "        cur_time = time.time()\n",
    "        diff = cur_time - last_time\n",
    "        yield num, int(diff)\n",
    "        last_time = cur_time"
   ]
  },
  {
   "cell_type": "code",
   "execution_count": 50,
   "id": "8f32821a",
   "metadata": {},
   "outputs": [
    {
     "name": "stdout",
     "output_type": "stream",
     "text": [
      "(73, 0)\n",
      "(4, 2)\n",
      "(54, 2)\n",
      "(61, 2)\n",
      "(73, 2)\n"
     ]
    }
   ],
   "source": [
    "for item in func(data):\n",
    "    print(item)\n",
    "    time.sleep(2)"
   ]
  },
  {
   "cell_type": "markdown",
   "id": "a2e53a30",
   "metadata": {},
   "source": [
    "## Задание 5.\n",
    "\n",
    "5.1 Найдите картинку в интернете и прикрепите её в ячейку с текстом\n",
    "\n",
    "5.2 Создайте следующую таблицу в ячейке с текстом"
   ]
  },
  {
   "cell_type": "markdown",
   "id": "07543a47",
   "metadata": {},
   "source": [
    "<img src=https://w.forfun.com/fetch/54/54f888f65b85365ce8ea8ff680c9db7e.jpeg width=500>"
   ]
  },
  {
   "cell_type": "markdown",
   "id": "6174d585",
   "metadata": {},
   "source": [
    "<table>\n",
    "    <tr>\n",
    "        <td> </td> \n",
    "        <td>До события</td>\n",
    "        <td>Во время </td>\n",
    "    </tr>  \n",
    "    <tr>\n",
    "        <td>Первая точка</td> \n",
    "        <td>250</td>\n",
    "        <td>500</td>\n",
    "    </tr> \n",
    "     <tr>\n",
    "        <td>Вторая точка</td> \n",
    "        <td>350</td>\n",
    "        <td>700</td>\n",
    "    </tr> \n",
    "     <tr>\n",
    "        <td>Третья точка</td> \n",
    "        <td>400</td>\n",
    "        <td>800</td>\n",
    "    </tr> \n",
    "     <tr>\n",
    "        <td>Итого</td> \n",
    "        <td>1000</td>\n",
    "        <td>2000</td>\n",
    "    </tr>\n",
    "</table> "
   ]
  },
  {
   "cell_type": "markdown",
   "id": "0062b7e0",
   "metadata": {},
   "source": [
    "| Tables        | Are           | Cool  |\n",
    "| ------------- |:-------------:| -----:|\n",
    "| col 3 is      | right-aligned | $1600 |\n",
    "| col 2 is      | centered      |   $12 |\n",
    "| zebra stripes | are neat      |    $1 |"
   ]
  },
  {
   "cell_type": "markdown",
   "id": "de9aec35",
   "metadata": {},
   "source": [
    "## Задание 6.\n",
    "\n",
    "Напишите функцию, которая может принимать любое количество трат пользователя и считать сумму и среднее.\n",
    "\n",
    "- На вход поступают целочисленные значения в любом количестве\n",
    "- На выходе словарь с ключами суммы трат и средней траты\n"
   ]
  },
  {
   "cell_type": "code",
   "execution_count": 54,
   "id": "b112b940",
   "metadata": {},
   "outputs": [],
   "source": [
    "def calc(*args):\n",
    "    summa = sum(args)\n",
    "    avg = summa / len(args)\n",
    "    return {\"сумма\": summa, \"среднее\": avg}\n",
    "   "
   ]
  },
  {
   "cell_type": "code",
   "execution_count": 58,
   "id": "8cf3c87b",
   "metadata": {},
   "outputs": [
    {
     "data": {
      "text/plain": [
       "{'сумма': 1985, 'среднее': 283.57142857142856}"
      ]
     },
     "execution_count": 58,
     "metadata": {},
     "output_type": "execute_result"
    }
   ],
   "source": [
    "calc(25,50,80,120,150,780, 780)"
   ]
  },
  {
   "cell_type": "code",
   "execution_count": null,
   "id": "d90f2333",
   "metadata": {},
   "outputs": [],
   "source": []
  }
 ],
 "metadata": {
  "kernelspec": {
   "display_name": "Python 3 (ipykernel)",
   "language": "python",
   "name": "python3"
  },
  "language_info": {
   "codemirror_mode": {
    "name": "ipython",
    "version": 3
   },
   "file_extension": ".py",
   "mimetype": "text/x-python",
   "name": "python",
   "nbconvert_exporter": "python",
   "pygments_lexer": "ipython3",
   "version": "3.11.3"
  }
 },
 "nbformat": 4,
 "nbformat_minor": 5
}
